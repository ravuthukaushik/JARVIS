{
 "cells": [
  {
   "cell_type": "code",
   "execution_count": null,
   "id": "7776b4e6-2fc6-42a1-b8d8-aff90aed31e3",
   "metadata": {},
   "outputs": [],
   "source": []
  },
  {
   "cell_type": "code",
   "execution_count": 5,
   "id": "c539e142-6b67-4318-8c2a-fe8431d56a1b",
   "metadata": {},
   "outputs": [
    {
     "name": "stdout",
     "output_type": "stream",
     "text": [
      "Spending by Category:\n",
      "Food: 91200\n",
      "Transportation: 36480\n",
      "Rent: 271840\n",
      "Total Spent: 399520\n"
     ]
    },
    {
     "data": {
      "image/png": "[encoded data removed]",
      "text/plain": [
       "<Figure size 800x400 with 1 Axes>"
      ]
     },
     "metadata": {},
     "output_type": "display_data"
    }
   ],
   "source": [
    "import json\n",
    "import os\n",
    "from datetime import datetime\n",
    "import matplotlib.pyplot as plt\n",
    "\n",
    "class ExpenseTracker:\n",
    "    def __init__(self, filename='expenses.json'):\n",
    "        self.filename = filename\n",
    "        self.expenses = []\n",
    "        self.load_data()\n",
    "\n",
    "    def load_data(self):\n",
    "            with open(self.filename, 'r') as file:\n",
    "                self.expenses = json.load(file)\n",
    "\n",
    "    def save_data(self):\n",
    "        with open(self.filename, 'w') as file:\n",
    "            json.dump(self.expenses, file)\n",
    "\n",
    "    def add_expense(self, date, category, amount, description=''):\n",
    "        expense = {\n",
    "            'date': date,\n",
    "            'category': category,\n",
    "            'amount': amount,\n",
    "            'description': description\n",
    "        }\n",
    "        self.expenses.append(expense)\n",
    "        self.save_data()\n",
    "\n",
    "    def delete_expense(self, index): \n",
    "            del self.expenses[index]\n",
    "            self.save_data()\n",
    "\n",
    "    def get_summary(self):\n",
    "        total_spent = sum(expense['amount'] for expense in self.expenses)\n",
    "        print(f\"Total Spent: {total_spent}\")\n",
    "        return total_spent\n",
    "\n",
    "    def get_monthly_report(self, month, year):\n",
    "        monthly_expenses = [expense for expense in self.expenses \n",
    "                            if datetime.strptime(expense['date'], '%Y-%m-%d').month == month \n",
    "                            and datetime.strptime(expense['date'], '%Y-%m-%d').year == year]\n",
    "        total_spent = sum(expense['amount'] for expense in monthly_expenses)\n",
    "        \n",
    "        print(f\"Monthly Total for {month}/{year}: {total_spent}\")\n",
    "        print(\"Monthly Expenses:\")\n",
    "        for expense in monthly_expenses:\n",
    "            print(expense)\n",
    "    \n",
    "        return total_spent, monthly_expenses\n",
    "\n",
    "    def categorize_expenses(self):\n",
    "        categories = {}\n",
    "        for expense in self.expenses:\n",
    "            category = expense['category']\n",
    "            categories[category] = categories.get(category, 0) + expense['amount']\n",
    "        \n",
    "        return categories\n",
    "\n",
    "    def print_categories(self):\n",
    "        categories = self.categorize_expenses()\n",
    "        print(\"Spending by Category:\")\n",
    "        for category, total in categories.items():\n",
    "            print(f\"{category}: {total}\")\n",
    "\n",
    "    def visualize_expenses(self):\n",
    "        categories = self.categorize_expenses()\n",
    "        plt.figure(figsize=(8, 4))\n",
    "        plt.pie(categories.values(), labels=categories.keys(), autopct='%1.1f%%')\n",
    "        plt.title('Category wise spending')\n",
    "        plt.show()\n",
    "\n",
    "tracker = ExpenseTracker()\n",
    "tracker.add_expense('2024-12-10', 'Food', 5000, 'Groceries')\n",
    "tracker.add_expense('2024-12-12', 'Transportation', 2000, 'Bus fare')\n",
    "tracker.add_expense('2024-12-11', 'Rent', 15000, 'House')\n",
    "tracker.print_categories()\n",
    "tracker.get_summary()\n",
    "tracker.visualize_expenses()\n"
   ]
  },
  {
   "cell_type": "code",
   "execution_count": null,
   "id": "b1c78f0d-610b-4586-81b8-e3e7673a9f5a",
   "metadata": {},
   "outputs": [],
   "source": []
  }
 ],
 "metadata": {
  "kernelspec": {
   "display_name": "Python [conda env:base] *",
   "language": "python",
   "name": "conda-base-py"
  },
  "language_info": {
   "codemirror_mode": {
    "name": "ipython",
    "version": 3
   },
   "file_extension": ".py",
   "mimetype": "text/x-python",
   "name": "python",
   "nbconvert_exporter": "python",
   "pygments_lexer": "ipython3",
   "version": "3.12.7"
  }
 },
 "nbformat": 4,
 "nbformat_minor": 5
}
