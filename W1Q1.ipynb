{
 "cells": [
  {
   "cell_type": "code",
   "execution_count": 5,
   "id": "5097dfca-1f9a-44a6-8222-6ceadeb74e8c",
   "metadata": {},
   "outputs": [
    {
     "name": "stdout",
     "output_type": "stream",
     "text": [
      "Random Array:\n",
      "[[55 75 44 57 65]\n",
      " [81 65 79 16 61]\n",
      " [85 51 87 52 97]\n",
      " [76 44 51 90 40]\n",
      " [68 12 98 94 26]]\n",
      "Middle Element of Array: 87\n",
      "Row mean of array: [59.2 60.4 74.4 60.2 59.6]\n",
      "Overall mean of array: 62.76\n",
      "Array with elements greater than overall mean:[75 65 81 65 79 85 87 97 76 90 68 98 94]\n",
      "Array in Spiral order:\n",
      "[55, 75, 44, 57, 65, 61, 97, 40, 26, 94, 98, 12, 68, 76, 85, 81, 65, 79, 16, 52, 90, 51, 44, 51, 87]\n"
     ]
    }
   ],
   "source": [
    "import numpy as np\n",
    "\n",
    "\n",
    "def main():\n",
    "    array = np.random.randint(1,101,(5,5))\n",
    "    print(\"Random Array:\")\n",
    "    print(array)\n",
    "    \n",
    "    middle_element = array[2,2]\n",
    "    print(f\"Middle Element of Array: {middle_element}\")\n",
    "    \n",
    "    overall_mean = np.mean(array)\n",
    "    row_mean = np.mean(array, axis=1)\n",
    "    \n",
    "    print (f\"Row mean of array: {row_mean}\")\n",
    "    print (f\"Overall mean of array: {overall_mean}\")\n",
    "    \n",
    "    greater_than_mean = array[array > overall_mean]\n",
    "    print(f\"Array with elements greater than overall mean:{greater_than_mean}\")\n",
    "\n",
    "    sprial_arr = numpy_spiral_order(array)\n",
    "    print(\"Array in Spiral order:\")\n",
    "    print (sprial_arr)\n",
    "\n",
    "def numpy_spiral_order(matrix):\n",
    "    spiral_array=[]\n",
    "    rows, columns= matrix.shape\n",
    "    top, bottom, left, right = 0, rows - 1, 0, columns - 1\n",
    "\n",
    "    while top <= bottom and left <= right:\n",
    "\n",
    "        for columns in range(left, right + 1):\n",
    "            spiral_array.append(matrix[top, columns])\n",
    "        top += 1\n",
    "        \n",
    "        for row in range(top, bottom + 1):\n",
    "            spiral_array.append(matrix[row, right])\n",
    "        right -= 1\n",
    "        \n",
    "        for columns in range(right, left - 1, -1):\n",
    "            spiral_array.append(matrix[bottom, columns])\n",
    "        bottom -= 1\n",
    "        \n",
    "        for row in range(bottom, top - 1, -1):\n",
    "            spiral_array.append(matrix[row, left])\n",
    "        left += 1\n",
    "     \n",
    "    return spiral_array         \n",
    "\n",
    "        \n",
    "if __name__ == \"__main__\":\n",
    "    main()"
   ]
  },
  {
   "cell_type": "code",
   "execution_count": null,
   "id": "c128c496-f4dc-4485-9810-bd12b4068b94",
   "metadata": {},
   "outputs": [],
   "source": []
  }
 ],
 "metadata": {
  "kernelspec": {
   "display_name": "Python [conda env:base] *",
   "language": "python",
   "name": "conda-base-py"
  },
  "language_info": {
   "codemirror_mode": {
    "name": "ipython",
    "version": 3
   },
   "file_extension": ".py",
   "mimetype": "text/x-python",
   "name": "python",
   "nbconvert_exporter": "python",
   "pygments_lexer": "ipython3",
   "version": "3.12.7"
  }
 },
 "nbformat": 4,
 "nbformat_minor": 5
}
